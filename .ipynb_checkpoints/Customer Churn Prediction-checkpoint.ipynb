{
 "cells": [
  {
   "cell_type": "code",
   "execution_count": 1,
   "id": "a4b9fbec",
   "metadata": {},
   "outputs": [],
   "source": [
    "import pandas as pd\n",
    "import numpy as np\n",
    "\n",
    "import seaborn as sns\n",
    "from matplotlib import pyplot as plt\n",
    "%matplotlib inline"
   ]
  },
  {
   "cell_type": "code",
   "execution_count": 2,
   "id": "449b23a9",
   "metadata": {},
   "outputs": [],
   "source": [
    "\n",
    "df = pd.read_csv('WA_Fn-UseC_-Telco-Customer-Churn.csv')"
   ]
  },
  {
   "cell_type": "code",
   "execution_count": 3,
   "id": "d48ade95",
   "metadata": {},
   "outputs": [
    {
     "data": {
      "text/plain": [
       "7043"
      ]
     },
     "execution_count": 3,
     "metadata": {},
     "output_type": "execute_result"
    }
   ],
   "source": [
    "len(df)"
   ]
  },
  {
   "cell_type": "code",
   "execution_count": 4,
   "id": "058c71d2",
   "metadata": {},
   "outputs": [
    {
     "data": {
      "text/html": [
       "<div>\n",
       "<style scoped>\n",
       "    .dataframe tbody tr th:only-of-type {\n",
       "        vertical-align: middle;\n",
       "    }\n",
       "\n",
       "    .dataframe tbody tr th {\n",
       "        vertical-align: top;\n",
       "    }\n",
       "\n",
       "    .dataframe thead th {\n",
       "        text-align: right;\n",
       "    }\n",
       "</style>\n",
       "<table border=\"1\" class=\"dataframe\">\n",
       "  <thead>\n",
       "    <tr style=\"text-align: right;\">\n",
       "      <th></th>\n",
       "      <th>customerID</th>\n",
       "      <th>gender</th>\n",
       "      <th>SeniorCitizen</th>\n",
       "      <th>Partner</th>\n",
       "      <th>Dependents</th>\n",
       "      <th>tenure</th>\n",
       "      <th>PhoneService</th>\n",
       "      <th>MultipleLines</th>\n",
       "      <th>InternetService</th>\n",
       "      <th>OnlineSecurity</th>\n",
       "      <th>...</th>\n",
       "      <th>DeviceProtection</th>\n",
       "      <th>TechSupport</th>\n",
       "      <th>StreamingTV</th>\n",
       "      <th>StreamingMovies</th>\n",
       "      <th>Contract</th>\n",
       "      <th>PaperlessBilling</th>\n",
       "      <th>PaymentMethod</th>\n",
       "      <th>MonthlyCharges</th>\n",
       "      <th>TotalCharges</th>\n",
       "      <th>Churn</th>\n",
       "    </tr>\n",
       "  </thead>\n",
       "  <tbody>\n",
       "    <tr>\n",
       "      <th>0</th>\n",
       "      <td>7590-VHVEG</td>\n",
       "      <td>Female</td>\n",
       "      <td>0</td>\n",
       "      <td>Yes</td>\n",
       "      <td>No</td>\n",
       "      <td>1</td>\n",
       "      <td>No</td>\n",
       "      <td>No phone service</td>\n",
       "      <td>DSL</td>\n",
       "      <td>No</td>\n",
       "      <td>...</td>\n",
       "      <td>No</td>\n",
       "      <td>No</td>\n",
       "      <td>No</td>\n",
       "      <td>No</td>\n",
       "      <td>Month-to-month</td>\n",
       "      <td>Yes</td>\n",
       "      <td>Electronic check</td>\n",
       "      <td>29.85</td>\n",
       "      <td>29.85</td>\n",
       "      <td>No</td>\n",
       "    </tr>\n",
       "    <tr>\n",
       "      <th>1</th>\n",
       "      <td>5575-GNVDE</td>\n",
       "      <td>Male</td>\n",
       "      <td>0</td>\n",
       "      <td>No</td>\n",
       "      <td>No</td>\n",
       "      <td>34</td>\n",
       "      <td>Yes</td>\n",
       "      <td>No</td>\n",
       "      <td>DSL</td>\n",
       "      <td>Yes</td>\n",
       "      <td>...</td>\n",
       "      <td>Yes</td>\n",
       "      <td>No</td>\n",
       "      <td>No</td>\n",
       "      <td>No</td>\n",
       "      <td>One year</td>\n",
       "      <td>No</td>\n",
       "      <td>Mailed check</td>\n",
       "      <td>56.95</td>\n",
       "      <td>1889.5</td>\n",
       "      <td>No</td>\n",
       "    </tr>\n",
       "    <tr>\n",
       "      <th>2</th>\n",
       "      <td>3668-QPYBK</td>\n",
       "      <td>Male</td>\n",
       "      <td>0</td>\n",
       "      <td>No</td>\n",
       "      <td>No</td>\n",
       "      <td>2</td>\n",
       "      <td>Yes</td>\n",
       "      <td>No</td>\n",
       "      <td>DSL</td>\n",
       "      <td>Yes</td>\n",
       "      <td>...</td>\n",
       "      <td>No</td>\n",
       "      <td>No</td>\n",
       "      <td>No</td>\n",
       "      <td>No</td>\n",
       "      <td>Month-to-month</td>\n",
       "      <td>Yes</td>\n",
       "      <td>Mailed check</td>\n",
       "      <td>53.85</td>\n",
       "      <td>108.15</td>\n",
       "      <td>Yes</td>\n",
       "    </tr>\n",
       "    <tr>\n",
       "      <th>3</th>\n",
       "      <td>7795-CFOCW</td>\n",
       "      <td>Male</td>\n",
       "      <td>0</td>\n",
       "      <td>No</td>\n",
       "      <td>No</td>\n",
       "      <td>45</td>\n",
       "      <td>No</td>\n",
       "      <td>No phone service</td>\n",
       "      <td>DSL</td>\n",
       "      <td>Yes</td>\n",
       "      <td>...</td>\n",
       "      <td>Yes</td>\n",
       "      <td>Yes</td>\n",
       "      <td>No</td>\n",
       "      <td>No</td>\n",
       "      <td>One year</td>\n",
       "      <td>No</td>\n",
       "      <td>Bank transfer (automatic)</td>\n",
       "      <td>42.30</td>\n",
       "      <td>1840.75</td>\n",
       "      <td>No</td>\n",
       "    </tr>\n",
       "    <tr>\n",
       "      <th>4</th>\n",
       "      <td>9237-HQITU</td>\n",
       "      <td>Female</td>\n",
       "      <td>0</td>\n",
       "      <td>No</td>\n",
       "      <td>No</td>\n",
       "      <td>2</td>\n",
       "      <td>Yes</td>\n",
       "      <td>No</td>\n",
       "      <td>Fiber optic</td>\n",
       "      <td>No</td>\n",
       "      <td>...</td>\n",
       "      <td>No</td>\n",
       "      <td>No</td>\n",
       "      <td>No</td>\n",
       "      <td>No</td>\n",
       "      <td>Month-to-month</td>\n",
       "      <td>Yes</td>\n",
       "      <td>Electronic check</td>\n",
       "      <td>70.70</td>\n",
       "      <td>151.65</td>\n",
       "      <td>Yes</td>\n",
       "    </tr>\n",
       "  </tbody>\n",
       "</table>\n",
       "<p>5 rows × 21 columns</p>\n",
       "</div>"
      ],
      "text/plain": [
       "   customerID  gender  SeniorCitizen Partner Dependents  tenure PhoneService  \\\n",
       "0  7590-VHVEG  Female              0     Yes         No       1           No   \n",
       "1  5575-GNVDE    Male              0      No         No      34          Yes   \n",
       "2  3668-QPYBK    Male              0      No         No       2          Yes   \n",
       "3  7795-CFOCW    Male              0      No         No      45           No   \n",
       "4  9237-HQITU  Female              0      No         No       2          Yes   \n",
       "\n",
       "      MultipleLines InternetService OnlineSecurity  ... DeviceProtection  \\\n",
       "0  No phone service             DSL             No  ...               No   \n",
       "1                No             DSL            Yes  ...              Yes   \n",
       "2                No             DSL            Yes  ...               No   \n",
       "3  No phone service             DSL            Yes  ...              Yes   \n",
       "4                No     Fiber optic             No  ...               No   \n",
       "\n",
       "  TechSupport StreamingTV StreamingMovies        Contract PaperlessBilling  \\\n",
       "0          No          No              No  Month-to-month              Yes   \n",
       "1          No          No              No        One year               No   \n",
       "2          No          No              No  Month-to-month              Yes   \n",
       "3         Yes          No              No        One year               No   \n",
       "4          No          No              No  Month-to-month              Yes   \n",
       "\n",
       "               PaymentMethod MonthlyCharges  TotalCharges Churn  \n",
       "0           Electronic check          29.85         29.85    No  \n",
       "1               Mailed check          56.95        1889.5    No  \n",
       "2               Mailed check          53.85        108.15   Yes  \n",
       "3  Bank transfer (automatic)          42.30       1840.75    No  \n",
       "4           Electronic check          70.70        151.65   Yes  \n",
       "\n",
       "[5 rows x 21 columns]"
      ]
     },
     "execution_count": 4,
     "metadata": {},
     "output_type": "execute_result"
    }
   ],
   "source": [
    "df.head()"
   ]
  },
  {
   "cell_type": "code",
   "execution_count": 5,
   "id": "951818b0",
   "metadata": {},
   "outputs": [
    {
     "data": {
      "text/html": [
       "<div>\n",
       "<style scoped>\n",
       "    .dataframe tbody tr th:only-of-type {\n",
       "        vertical-align: middle;\n",
       "    }\n",
       "\n",
       "    .dataframe tbody tr th {\n",
       "        vertical-align: top;\n",
       "    }\n",
       "\n",
       "    .dataframe thead th {\n",
       "        text-align: right;\n",
       "    }\n",
       "</style>\n",
       "<table border=\"1\" class=\"dataframe\">\n",
       "  <thead>\n",
       "    <tr style=\"text-align: right;\">\n",
       "      <th></th>\n",
       "      <th>0</th>\n",
       "      <th>1</th>\n",
       "      <th>2</th>\n",
       "      <th>3</th>\n",
       "      <th>4</th>\n",
       "    </tr>\n",
       "  </thead>\n",
       "  <tbody>\n",
       "    <tr>\n",
       "      <th>customerID</th>\n",
       "      <td>7590-VHVEG</td>\n",
       "      <td>5575-GNVDE</td>\n",
       "      <td>3668-QPYBK</td>\n",
       "      <td>7795-CFOCW</td>\n",
       "      <td>9237-HQITU</td>\n",
       "    </tr>\n",
       "    <tr>\n",
       "      <th>gender</th>\n",
       "      <td>Female</td>\n",
       "      <td>Male</td>\n",
       "      <td>Male</td>\n",
       "      <td>Male</td>\n",
       "      <td>Female</td>\n",
       "    </tr>\n",
       "    <tr>\n",
       "      <th>SeniorCitizen</th>\n",
       "      <td>0</td>\n",
       "      <td>0</td>\n",
       "      <td>0</td>\n",
       "      <td>0</td>\n",
       "      <td>0</td>\n",
       "    </tr>\n",
       "    <tr>\n",
       "      <th>Partner</th>\n",
       "      <td>Yes</td>\n",
       "      <td>No</td>\n",
       "      <td>No</td>\n",
       "      <td>No</td>\n",
       "      <td>No</td>\n",
       "    </tr>\n",
       "    <tr>\n",
       "      <th>Dependents</th>\n",
       "      <td>No</td>\n",
       "      <td>No</td>\n",
       "      <td>No</td>\n",
       "      <td>No</td>\n",
       "      <td>No</td>\n",
       "    </tr>\n",
       "    <tr>\n",
       "      <th>tenure</th>\n",
       "      <td>1</td>\n",
       "      <td>34</td>\n",
       "      <td>2</td>\n",
       "      <td>45</td>\n",
       "      <td>2</td>\n",
       "    </tr>\n",
       "    <tr>\n",
       "      <th>PhoneService</th>\n",
       "      <td>No</td>\n",
       "      <td>Yes</td>\n",
       "      <td>Yes</td>\n",
       "      <td>No</td>\n",
       "      <td>Yes</td>\n",
       "    </tr>\n",
       "    <tr>\n",
       "      <th>MultipleLines</th>\n",
       "      <td>No phone service</td>\n",
       "      <td>No</td>\n",
       "      <td>No</td>\n",
       "      <td>No phone service</td>\n",
       "      <td>No</td>\n",
       "    </tr>\n",
       "    <tr>\n",
       "      <th>InternetService</th>\n",
       "      <td>DSL</td>\n",
       "      <td>DSL</td>\n",
       "      <td>DSL</td>\n",
       "      <td>DSL</td>\n",
       "      <td>Fiber optic</td>\n",
       "    </tr>\n",
       "    <tr>\n",
       "      <th>OnlineSecurity</th>\n",
       "      <td>No</td>\n",
       "      <td>Yes</td>\n",
       "      <td>Yes</td>\n",
       "      <td>Yes</td>\n",
       "      <td>No</td>\n",
       "    </tr>\n",
       "    <tr>\n",
       "      <th>OnlineBackup</th>\n",
       "      <td>Yes</td>\n",
       "      <td>No</td>\n",
       "      <td>Yes</td>\n",
       "      <td>No</td>\n",
       "      <td>No</td>\n",
       "    </tr>\n",
       "    <tr>\n",
       "      <th>DeviceProtection</th>\n",
       "      <td>No</td>\n",
       "      <td>Yes</td>\n",
       "      <td>No</td>\n",
       "      <td>Yes</td>\n",
       "      <td>No</td>\n",
       "    </tr>\n",
       "    <tr>\n",
       "      <th>TechSupport</th>\n",
       "      <td>No</td>\n",
       "      <td>No</td>\n",
       "      <td>No</td>\n",
       "      <td>Yes</td>\n",
       "      <td>No</td>\n",
       "    </tr>\n",
       "    <tr>\n",
       "      <th>StreamingTV</th>\n",
       "      <td>No</td>\n",
       "      <td>No</td>\n",
       "      <td>No</td>\n",
       "      <td>No</td>\n",
       "      <td>No</td>\n",
       "    </tr>\n",
       "    <tr>\n",
       "      <th>StreamingMovies</th>\n",
       "      <td>No</td>\n",
       "      <td>No</td>\n",
       "      <td>No</td>\n",
       "      <td>No</td>\n",
       "      <td>No</td>\n",
       "    </tr>\n",
       "    <tr>\n",
       "      <th>Contract</th>\n",
       "      <td>Month-to-month</td>\n",
       "      <td>One year</td>\n",
       "      <td>Month-to-month</td>\n",
       "      <td>One year</td>\n",
       "      <td>Month-to-month</td>\n",
       "    </tr>\n",
       "    <tr>\n",
       "      <th>PaperlessBilling</th>\n",
       "      <td>Yes</td>\n",
       "      <td>No</td>\n",
       "      <td>Yes</td>\n",
       "      <td>No</td>\n",
       "      <td>Yes</td>\n",
       "    </tr>\n",
       "    <tr>\n",
       "      <th>PaymentMethod</th>\n",
       "      <td>Electronic check</td>\n",
       "      <td>Mailed check</td>\n",
       "      <td>Mailed check</td>\n",
       "      <td>Bank transfer (automatic)</td>\n",
       "      <td>Electronic check</td>\n",
       "    </tr>\n",
       "    <tr>\n",
       "      <th>MonthlyCharges</th>\n",
       "      <td>29.85</td>\n",
       "      <td>56.95</td>\n",
       "      <td>53.85</td>\n",
       "      <td>42.3</td>\n",
       "      <td>70.7</td>\n",
       "    </tr>\n",
       "    <tr>\n",
       "      <th>TotalCharges</th>\n",
       "      <td>29.85</td>\n",
       "      <td>1889.5</td>\n",
       "      <td>108.15</td>\n",
       "      <td>1840.75</td>\n",
       "      <td>151.65</td>\n",
       "    </tr>\n",
       "    <tr>\n",
       "      <th>Churn</th>\n",
       "      <td>No</td>\n",
       "      <td>No</td>\n",
       "      <td>Yes</td>\n",
       "      <td>No</td>\n",
       "      <td>Yes</td>\n",
       "    </tr>\n",
       "  </tbody>\n",
       "</table>\n",
       "</div>"
      ],
      "text/plain": [
       "                                 0             1               2  \\\n",
       "customerID              7590-VHVEG    5575-GNVDE      3668-QPYBK   \n",
       "gender                      Female          Male            Male   \n",
       "SeniorCitizen                    0             0               0   \n",
       "Partner                        Yes            No              No   \n",
       "Dependents                      No            No              No   \n",
       "tenure                           1            34               2   \n",
       "PhoneService                    No           Yes             Yes   \n",
       "MultipleLines     No phone service            No              No   \n",
       "InternetService                DSL           DSL             DSL   \n",
       "OnlineSecurity                  No           Yes             Yes   \n",
       "OnlineBackup                   Yes            No             Yes   \n",
       "DeviceProtection                No           Yes              No   \n",
       "TechSupport                     No            No              No   \n",
       "StreamingTV                     No            No              No   \n",
       "StreamingMovies                 No            No              No   \n",
       "Contract            Month-to-month      One year  Month-to-month   \n",
       "PaperlessBilling               Yes            No             Yes   \n",
       "PaymentMethod     Electronic check  Mailed check    Mailed check   \n",
       "MonthlyCharges               29.85         56.95           53.85   \n",
       "TotalCharges                 29.85        1889.5          108.15   \n",
       "Churn                           No            No             Yes   \n",
       "\n",
       "                                          3                 4  \n",
       "customerID                       7795-CFOCW        9237-HQITU  \n",
       "gender                                 Male            Female  \n",
       "SeniorCitizen                             0                 0  \n",
       "Partner                                  No                No  \n",
       "Dependents                               No                No  \n",
       "tenure                                   45                 2  \n",
       "PhoneService                             No               Yes  \n",
       "MultipleLines              No phone service                No  \n",
       "InternetService                         DSL       Fiber optic  \n",
       "OnlineSecurity                          Yes                No  \n",
       "OnlineBackup                             No                No  \n",
       "DeviceProtection                        Yes                No  \n",
       "TechSupport                             Yes                No  \n",
       "StreamingTV                              No                No  \n",
       "StreamingMovies                          No                No  \n",
       "Contract                           One year    Month-to-month  \n",
       "PaperlessBilling                         No               Yes  \n",
       "PaymentMethod     Bank transfer (automatic)  Electronic check  \n",
       "MonthlyCharges                         42.3              70.7  \n",
       "TotalCharges                        1840.75            151.65  \n",
       "Churn                                    No               Yes  "
      ]
     },
     "execution_count": 5,
     "metadata": {},
     "output_type": "execute_result"
    }
   ],
   "source": [
    "df.head().T"
   ]
  },
  {
   "cell_type": "code",
   "execution_count": 6,
   "id": "c1e97802",
   "metadata": {},
   "outputs": [
    {
     "data": {
      "text/plain": [
       "customerID           object\n",
       "gender               object\n",
       "SeniorCitizen         int64\n",
       "Partner              object\n",
       "Dependents           object\n",
       "tenure                int64\n",
       "PhoneService         object\n",
       "MultipleLines        object\n",
       "InternetService      object\n",
       "OnlineSecurity       object\n",
       "OnlineBackup         object\n",
       "DeviceProtection     object\n",
       "TechSupport          object\n",
       "StreamingTV          object\n",
       "StreamingMovies      object\n",
       "Contract             object\n",
       "PaperlessBilling     object\n",
       "PaymentMethod        object\n",
       "MonthlyCharges      float64\n",
       "TotalCharges         object\n",
       "Churn                object\n",
       "dtype: object"
      ]
     },
     "execution_count": 6,
     "metadata": {},
     "output_type": "execute_result"
    }
   ],
   "source": [
    "df.dtypes"
   ]
  },
  {
   "cell_type": "code",
   "execution_count": 7,
   "id": "ff37110f",
   "metadata": {},
   "outputs": [],
   "source": [
    "df['TotalCharges'] = pd.to_numeric(df['TotalCharges'], errors='coerce')\n",
    "df['TotalCharges'] = df['TotalCharges'].fillna(0)"
   ]
  },
  {
   "cell_type": "code",
   "execution_count": 8,
   "id": "a7c73757",
   "metadata": {},
   "outputs": [],
   "source": [
    "\n",
    "df.columns = df.columns.str.lower().str.replace(' ', '_')\n",
    "\n",
    "string_columns = list(df.dtypes[df.dtypes == 'object'].index)\n",
    "\n",
    "for col in string_columns:\n",
    "    df[col] = df[col].str.lower().str.replace(' ', '_')"
   ]
  },
  {
   "cell_type": "code",
   "execution_count": 9,
   "id": "82bab38a",
   "metadata": {},
   "outputs": [],
   "source": [
    "df.churn = (df.churn == 'yes').astype(int)"
   ]
  },
  {
   "cell_type": "code",
   "execution_count": 10,
   "id": "0587a405",
   "metadata": {},
   "outputs": [
    {
     "data": {
      "text/html": [
       "<div>\n",
       "<style scoped>\n",
       "    .dataframe tbody tr th:only-of-type {\n",
       "        vertical-align: middle;\n",
       "    }\n",
       "\n",
       "    .dataframe tbody tr th {\n",
       "        vertical-align: top;\n",
       "    }\n",
       "\n",
       "    .dataframe thead th {\n",
       "        text-align: right;\n",
       "    }\n",
       "</style>\n",
       "<table border=\"1\" class=\"dataframe\">\n",
       "  <thead>\n",
       "    <tr style=\"text-align: right;\">\n",
       "      <th></th>\n",
       "      <th>0</th>\n",
       "      <th>1</th>\n",
       "      <th>2</th>\n",
       "      <th>3</th>\n",
       "      <th>4</th>\n",
       "    </tr>\n",
       "  </thead>\n",
       "  <tbody>\n",
       "    <tr>\n",
       "      <th>customerid</th>\n",
       "      <td>7590-vhveg</td>\n",
       "      <td>5575-gnvde</td>\n",
       "      <td>3668-qpybk</td>\n",
       "      <td>7795-cfocw</td>\n",
       "      <td>9237-hqitu</td>\n",
       "    </tr>\n",
       "    <tr>\n",
       "      <th>gender</th>\n",
       "      <td>female</td>\n",
       "      <td>male</td>\n",
       "      <td>male</td>\n",
       "      <td>male</td>\n",
       "      <td>female</td>\n",
       "    </tr>\n",
       "    <tr>\n",
       "      <th>seniorcitizen</th>\n",
       "      <td>0</td>\n",
       "      <td>0</td>\n",
       "      <td>0</td>\n",
       "      <td>0</td>\n",
       "      <td>0</td>\n",
       "    </tr>\n",
       "    <tr>\n",
       "      <th>partner</th>\n",
       "      <td>yes</td>\n",
       "      <td>no</td>\n",
       "      <td>no</td>\n",
       "      <td>no</td>\n",
       "      <td>no</td>\n",
       "    </tr>\n",
       "    <tr>\n",
       "      <th>dependents</th>\n",
       "      <td>no</td>\n",
       "      <td>no</td>\n",
       "      <td>no</td>\n",
       "      <td>no</td>\n",
       "      <td>no</td>\n",
       "    </tr>\n",
       "    <tr>\n",
       "      <th>tenure</th>\n",
       "      <td>1</td>\n",
       "      <td>34</td>\n",
       "      <td>2</td>\n",
       "      <td>45</td>\n",
       "      <td>2</td>\n",
       "    </tr>\n",
       "    <tr>\n",
       "      <th>phoneservice</th>\n",
       "      <td>no</td>\n",
       "      <td>yes</td>\n",
       "      <td>yes</td>\n",
       "      <td>no</td>\n",
       "      <td>yes</td>\n",
       "    </tr>\n",
       "    <tr>\n",
       "      <th>multiplelines</th>\n",
       "      <td>no_phone_service</td>\n",
       "      <td>no</td>\n",
       "      <td>no</td>\n",
       "      <td>no_phone_service</td>\n",
       "      <td>no</td>\n",
       "    </tr>\n",
       "    <tr>\n",
       "      <th>internetservice</th>\n",
       "      <td>dsl</td>\n",
       "      <td>dsl</td>\n",
       "      <td>dsl</td>\n",
       "      <td>dsl</td>\n",
       "      <td>fiber_optic</td>\n",
       "    </tr>\n",
       "    <tr>\n",
       "      <th>onlinesecurity</th>\n",
       "      <td>no</td>\n",
       "      <td>yes</td>\n",
       "      <td>yes</td>\n",
       "      <td>yes</td>\n",
       "      <td>no</td>\n",
       "    </tr>\n",
       "    <tr>\n",
       "      <th>onlinebackup</th>\n",
       "      <td>yes</td>\n",
       "      <td>no</td>\n",
       "      <td>yes</td>\n",
       "      <td>no</td>\n",
       "      <td>no</td>\n",
       "    </tr>\n",
       "    <tr>\n",
       "      <th>deviceprotection</th>\n",
       "      <td>no</td>\n",
       "      <td>yes</td>\n",
       "      <td>no</td>\n",
       "      <td>yes</td>\n",
       "      <td>no</td>\n",
       "    </tr>\n",
       "    <tr>\n",
       "      <th>techsupport</th>\n",
       "      <td>no</td>\n",
       "      <td>no</td>\n",
       "      <td>no</td>\n",
       "      <td>yes</td>\n",
       "      <td>no</td>\n",
       "    </tr>\n",
       "    <tr>\n",
       "      <th>streamingtv</th>\n",
       "      <td>no</td>\n",
       "      <td>no</td>\n",
       "      <td>no</td>\n",
       "      <td>no</td>\n",
       "      <td>no</td>\n",
       "    </tr>\n",
       "    <tr>\n",
       "      <th>streamingmovies</th>\n",
       "      <td>no</td>\n",
       "      <td>no</td>\n",
       "      <td>no</td>\n",
       "      <td>no</td>\n",
       "      <td>no</td>\n",
       "    </tr>\n",
       "    <tr>\n",
       "      <th>contract</th>\n",
       "      <td>month-to-month</td>\n",
       "      <td>one_year</td>\n",
       "      <td>month-to-month</td>\n",
       "      <td>one_year</td>\n",
       "      <td>month-to-month</td>\n",
       "    </tr>\n",
       "    <tr>\n",
       "      <th>paperlessbilling</th>\n",
       "      <td>yes</td>\n",
       "      <td>no</td>\n",
       "      <td>yes</td>\n",
       "      <td>no</td>\n",
       "      <td>yes</td>\n",
       "    </tr>\n",
       "    <tr>\n",
       "      <th>paymentmethod</th>\n",
       "      <td>electronic_check</td>\n",
       "      <td>mailed_check</td>\n",
       "      <td>mailed_check</td>\n",
       "      <td>bank_transfer_(automatic)</td>\n",
       "      <td>electronic_check</td>\n",
       "    </tr>\n",
       "    <tr>\n",
       "      <th>monthlycharges</th>\n",
       "      <td>29.85</td>\n",
       "      <td>56.95</td>\n",
       "      <td>53.85</td>\n",
       "      <td>42.3</td>\n",
       "      <td>70.7</td>\n",
       "    </tr>\n",
       "    <tr>\n",
       "      <th>totalcharges</th>\n",
       "      <td>29.85</td>\n",
       "      <td>1889.5</td>\n",
       "      <td>108.15</td>\n",
       "      <td>1840.75</td>\n",
       "      <td>151.65</td>\n",
       "    </tr>\n",
       "    <tr>\n",
       "      <th>churn</th>\n",
       "      <td>0</td>\n",
       "      <td>0</td>\n",
       "      <td>1</td>\n",
       "      <td>0</td>\n",
       "      <td>1</td>\n",
       "    </tr>\n",
       "  </tbody>\n",
       "</table>\n",
       "</div>"
      ],
      "text/plain": [
       "                                 0             1               2  \\\n",
       "customerid              7590-vhveg    5575-gnvde      3668-qpybk   \n",
       "gender                      female          male            male   \n",
       "seniorcitizen                    0             0               0   \n",
       "partner                        yes            no              no   \n",
       "dependents                      no            no              no   \n",
       "tenure                           1            34               2   \n",
       "phoneservice                    no           yes             yes   \n",
       "multiplelines     no_phone_service            no              no   \n",
       "internetservice                dsl           dsl             dsl   \n",
       "onlinesecurity                  no           yes             yes   \n",
       "onlinebackup                   yes            no             yes   \n",
       "deviceprotection                no           yes              no   \n",
       "techsupport                     no            no              no   \n",
       "streamingtv                     no            no              no   \n",
       "streamingmovies                 no            no              no   \n",
       "contract            month-to-month      one_year  month-to-month   \n",
       "paperlessbilling               yes            no             yes   \n",
       "paymentmethod     electronic_check  mailed_check    mailed_check   \n",
       "monthlycharges               29.85         56.95           53.85   \n",
       "totalcharges                 29.85        1889.5          108.15   \n",
       "churn                            0             0               1   \n",
       "\n",
       "                                          3                 4  \n",
       "customerid                       7795-cfocw        9237-hqitu  \n",
       "gender                                 male            female  \n",
       "seniorcitizen                             0                 0  \n",
       "partner                                  no                no  \n",
       "dependents                               no                no  \n",
       "tenure                                   45                 2  \n",
       "phoneservice                             no               yes  \n",
       "multiplelines              no_phone_service                no  \n",
       "internetservice                         dsl       fiber_optic  \n",
       "onlinesecurity                          yes                no  \n",
       "onlinebackup                             no                no  \n",
       "deviceprotection                        yes                no  \n",
       "techsupport                             yes                no  \n",
       "streamingtv                              no                no  \n",
       "streamingmovies                          no                no  \n",
       "contract                           one_year    month-to-month  \n",
       "paperlessbilling                         no               yes  \n",
       "paymentmethod     bank_transfer_(automatic)  electronic_check  \n",
       "monthlycharges                         42.3              70.7  \n",
       "totalcharges                        1840.75            151.65  \n",
       "churn                                     0                 1  "
      ]
     },
     "execution_count": 10,
     "metadata": {},
     "output_type": "execute_result"
    }
   ],
   "source": [
    "df.head().T"
   ]
  },
  {
   "cell_type": "code",
   "execution_count": 11,
   "id": "71d66f57",
   "metadata": {},
   "outputs": [],
   "source": [
    "from sklearn.model_selection import train_test_split\n"
   ]
  },
  {
   "cell_type": "code",
   "execution_count": 12,
   "id": "d650cab5",
   "metadata": {},
   "outputs": [],
   "source": [
    "df_train_full, df_test = train_test_split(df, test_size=0.2, random_state=1)"
   ]
  },
  {
   "cell_type": "code",
   "execution_count": 13,
   "id": "2630e636",
   "metadata": {},
   "outputs": [],
   "source": [
    "df_train, df_val = train_test_split(df_train_full, test_size=0.33, random_state=11)"
   ]
  },
  {
   "cell_type": "code",
   "execution_count": 14,
   "id": "afa594fa",
   "metadata": {},
   "outputs": [],
   "source": [
    "y_train = df_train.churn.values\n",
    "y_val = df_val.churn.values"
   ]
  },
  {
   "cell_type": "code",
   "execution_count": 15,
   "id": "00d61e18",
   "metadata": {},
   "outputs": [],
   "source": [
    "\n",
    "del df_train['churn']\n",
    "del df_val['churn']"
   ]
  },
  {
   "cell_type": "markdown",
   "id": "4c646284",
   "metadata": {},
   "source": [
    "## Exploratory Data Analysis"
   ]
  },
  {
   "cell_type": "code",
   "execution_count": 16,
   "id": "97e32e4d",
   "metadata": {},
   "outputs": [
    {
     "data": {
      "text/plain": [
       "customerid          0\n",
       "gender              0\n",
       "seniorcitizen       0\n",
       "partner             0\n",
       "dependents          0\n",
       "tenure              0\n",
       "phoneservice        0\n",
       "multiplelines       0\n",
       "internetservice     0\n",
       "onlinesecurity      0\n",
       "onlinebackup        0\n",
       "deviceprotection    0\n",
       "techsupport         0\n",
       "streamingtv         0\n",
       "streamingmovies     0\n",
       "contract            0\n",
       "paperlessbilling    0\n",
       "paymentmethod       0\n",
       "monthlycharges      0\n",
       "totalcharges        0\n",
       "churn               0\n",
       "dtype: int64"
      ]
     },
     "execution_count": 16,
     "metadata": {},
     "output_type": "execute_result"
    }
   ],
   "source": [
    "df_train_full.isnull().sum()"
   ]
  },
  {
   "cell_type": "code",
   "execution_count": 17,
   "id": "59ba22b8",
   "metadata": {},
   "outputs": [
    {
     "data": {
      "text/plain": [
       "0    4113\n",
       "1    1521\n",
       "Name: churn, dtype: int64"
      ]
     },
     "execution_count": 17,
     "metadata": {},
     "output_type": "execute_result"
    }
   ],
   "source": [
    "df_train_full.churn.value_counts()"
   ]
  },
  {
   "cell_type": "code",
   "execution_count": 18,
   "id": "1cede7b4",
   "metadata": {},
   "outputs": [
    {
     "data": {
      "text/plain": [
       "0.27"
      ]
     },
     "execution_count": 18,
     "metadata": {},
     "output_type": "execute_result"
    }
   ],
   "source": [
    "global_mean = df_train_full.churn.mean()\n",
    "round(global_mean, 3)"
   ]
  },
  {
   "cell_type": "code",
   "execution_count": 19,
   "id": "680ff4d8",
   "metadata": {},
   "outputs": [],
   "source": [
    "categorical = ['gender', 'seniorcitizen', 'partner', 'dependents',\n",
    "               'phoneservice', 'multiplelines', 'internetservice',\n",
    "               'onlinesecurity', 'onlinebackup', 'deviceprotection',\n",
    "               'techsupport', 'streamingtv', 'streamingmovies',\n",
    "               'contract', 'paperlessbilling', 'paymentmethod']\n",
    "numerical = ['tenure', 'monthlycharges', 'totalcharges']"
   ]
  },
  {
   "cell_type": "code",
   "execution_count": 20,
   "id": "b15ba060",
   "metadata": {},
   "outputs": [
    {
     "data": {
      "text/plain": [
       "gender              2\n",
       "seniorcitizen       2\n",
       "partner             2\n",
       "dependents          2\n",
       "phoneservice        2\n",
       "multiplelines       3\n",
       "internetservice     3\n",
       "onlinesecurity      3\n",
       "onlinebackup        3\n",
       "deviceprotection    3\n",
       "techsupport         3\n",
       "streamingtv         3\n",
       "streamingmovies     3\n",
       "contract            3\n",
       "paperlessbilling    2\n",
       "paymentmethod       4\n",
       "dtype: int64"
      ]
     },
     "execution_count": 20,
     "metadata": {},
     "output_type": "execute_result"
    }
   ],
   "source": [
    "df_train_full[categorical].nunique()"
   ]
  },
  {
   "cell_type": "markdown",
   "id": "b91bbe2b",
   "metadata": {},
   "source": [
    "## Feature importance "
   ]
  },
  {
   "cell_type": "code",
   "execution_count": 21,
   "id": "e6c7d258",
   "metadata": {},
   "outputs": [
    {
     "name": "stdout",
     "output_type": "stream",
     "text": [
      "gender == female: 0.277\n",
      "gender == male:   0.263\n"
     ]
    }
   ],
   "source": [
    "female_mean = df_train_full[df_train_full.gender == 'female'].churn.mean()\n",
    "print('gender == female:', round(female_mean, 3))\n",
    "\n",
    "male_mean = df_train_full[df_train_full.gender == 'male'].churn.mean()\n",
    "print('gender == male:  ', round(male_mean, 3))"
   ]
  },
  {
   "cell_type": "code",
   "execution_count": 22,
   "id": "81ad73b9",
   "metadata": {},
   "outputs": [
    {
     "data": {
      "text/plain": [
       "1.0253955354648652"
      ]
     },
     "execution_count": 22,
     "metadata": {},
     "output_type": "execute_result"
    }
   ],
   "source": [
    "female_mean / global_mean"
   ]
  },
  {
   "cell_type": "code",
   "execution_count": 23,
   "id": "2e63fcdb",
   "metadata": {},
   "outputs": [
    {
     "data": {
      "text/plain": [
       "0.9749802969838747"
      ]
     },
     "execution_count": 23,
     "metadata": {},
     "output_type": "execute_result"
    }
   ],
   "source": [
    "male_mean / global_mean"
   ]
  },
  {
   "cell_type": "code",
   "execution_count": 24,
   "id": "804d0244",
   "metadata": {},
   "outputs": [
    {
     "name": "stdout",
     "output_type": "stream",
     "text": [
      "partner == yes: 0.205\n",
      "partner == no : 0.33\n"
     ]
    }
   ],
   "source": [
    "partner_yes = df_train_full[df_train_full.partner == 'yes'].churn.mean()\n",
    "print('partner == yes:', round(partner_yes, 3))\n",
    "\n",
    "partner_no = df_train_full[df_train_full.partner == 'no'].churn.mean()\n",
    "print('partner == no :', round(partner_no, 3))"
   ]
  },
  {
   "cell_type": "code",
   "execution_count": 25,
   "id": "df2acebc",
   "metadata": {},
   "outputs": [
    {
     "data": {
      "text/plain": [
       "0.7594724924338315"
      ]
     },
     "execution_count": 25,
     "metadata": {},
     "output_type": "execute_result"
    }
   ],
   "source": [
    "partner_yes / global_mean"
   ]
  },
  {
   "cell_type": "code",
   "execution_count": 26,
   "id": "fd12ba7a",
   "metadata": {},
   "outputs": [
    {
     "data": {
      "text/plain": [
       "1.2216593879412643"
      ]
     },
     "execution_count": 26,
     "metadata": {},
     "output_type": "execute_result"
    }
   ],
   "source": [
    "partner_no / global_mean"
   ]
  },
  {
   "cell_type": "code",
   "execution_count": 27,
   "id": "d5c62d33",
   "metadata": {},
   "outputs": [
    {
     "data": {
      "text/html": [
       "<div>\n",
       "<style scoped>\n",
       "    .dataframe tbody tr th:only-of-type {\n",
       "        vertical-align: middle;\n",
       "    }\n",
       "\n",
       "    .dataframe tbody tr th {\n",
       "        vertical-align: top;\n",
       "    }\n",
       "\n",
       "    .dataframe thead th {\n",
       "        text-align: right;\n",
       "    }\n",
       "</style>\n",
       "<table border=\"1\" class=\"dataframe\">\n",
       "  <thead>\n",
       "    <tr style=\"text-align: right;\">\n",
       "      <th></th>\n",
       "      <th>mean</th>\n",
       "      <th>diff</th>\n",
       "      <th>risk</th>\n",
       "    </tr>\n",
       "    <tr>\n",
       "      <th>gender</th>\n",
       "      <th></th>\n",
       "      <th></th>\n",
       "      <th></th>\n",
       "    </tr>\n",
       "  </thead>\n",
       "  <tbody>\n",
       "    <tr>\n",
       "      <th>female</th>\n",
       "      <td>0.276824</td>\n",
       "      <td>0.006856</td>\n",
       "      <td>1.025396</td>\n",
       "    </tr>\n",
       "    <tr>\n",
       "      <th>male</th>\n",
       "      <td>0.263214</td>\n",
       "      <td>-0.006755</td>\n",
       "      <td>0.974980</td>\n",
       "    </tr>\n",
       "  </tbody>\n",
       "</table>\n",
       "</div>"
      ],
      "text/plain": [
       "            mean      diff      risk\n",
       "gender                              \n",
       "female  0.276824  0.006856  1.025396\n",
       "male    0.263214 -0.006755  0.974980"
      ]
     },
     "execution_count": 27,
     "metadata": {},
     "output_type": "execute_result"
    }
   ],
   "source": [
    "df_group = df_train_full.groupby(by='gender').churn.agg(['mean'])\n",
    "df_group['diff'] = df_group['mean'] - global_mean\n",
    "df_group['risk'] = df_group['mean'] / global_mean\n",
    "df_group"
   ]
  },
  {
   "cell_type": "code",
   "execution_count": 28,
   "id": "4633d5cd",
   "metadata": {},
   "outputs": [],
   "source": [
    "from IPython.display import display"
   ]
  },
  {
   "cell_type": "code",
   "execution_count": 29,
   "id": "506c3ef5",
   "metadata": {},
   "outputs": [
    {
     "data": {
      "text/plain": [
       "0.26996805111821087"
      ]
     },
     "execution_count": 29,
     "metadata": {},
     "output_type": "execute_result"
    }
   ],
   "source": [
    "global_mean = df_train_full.churn.mean()\n",
    "global_mean"
   ]
  },
  {
   "cell_type": "code",
   "execution_count": null,
   "id": "89ed4b63",
   "metadata": {},
   "outputs": [],
   "source": [
    "for col in categorical:\n",
    "    df_group = df_train_full.groupby(by=col).churn.agg(['mean'])\n",
    "    df_group['diff'] = df_group['mean'] - global_mean\n",
    "    df_group['risk'] = df_group['mean'] / global_mean\n",
    "    display(df_group)"
   ]
  },
  {
   "cell_type": "code",
   "execution_count": null,
   "id": "0c43a2e8",
   "metadata": {},
   "outputs": [],
   "source": [
    "from sklearn.metrics import mutual_info_score"
   ]
  },
  {
   "cell_type": "code",
   "execution_count": null,
   "id": "6474d8bc",
   "metadata": {},
   "outputs": [],
   "source": [
    "def calculate_mi(series):\n",
    "    return mutual_info_score(series, df_train_full.churn)\n",
    "\n",
    "df_mi = df_train_full[categorical].apply(calculate_mi)\n",
    "df_mi = df_mi.sort_values(ascending=False).to_frame(name='MI')\n",
    "\n",
    "\n",
    "display(df_mi.head())\n",
    "display(df_mi.tail())"
   ]
  },
  {
   "cell_type": "code",
   "execution_count": null,
   "id": "d4938638",
   "metadata": {},
   "outputs": [],
   "source": [
    "\n",
    "df_train_full[numerical].corrwith(df_train_full.churn).to_frame('correlation')"
   ]
  },
  {
   "cell_type": "code",
   "execution_count": null,
   "id": "f5c28615",
   "metadata": {},
   "outputs": [],
   "source": [
    "\n",
    "df_train_full.groupby(by='churn')[numerical].mean()"
   ]
  },
  {
   "cell_type": "markdown",
   "id": "0436fc52",
   "metadata": {},
   "source": [
    "## One Hot Encoding"
   ]
  },
  {
   "cell_type": "code",
   "execution_count": null,
   "id": "d57aa5f0",
   "metadata": {},
   "outputs": [],
   "source": [
    "from sklearn.feature_extraction import DictVectorizer"
   ]
  },
  {
   "cell_type": "code",
   "execution_count": null,
   "id": "33f6e351",
   "metadata": {},
   "outputs": [],
   "source": [
    "train_dict = df_train[categorical + numerical].to_dict(orient='records')"
   ]
  },
  {
   "cell_type": "code",
   "execution_count": null,
   "id": "4e9f750b",
   "metadata": {},
   "outputs": [],
   "source": [
    "train_dict[0]"
   ]
  },
  {
   "cell_type": "code",
   "execution_count": null,
   "id": "fa533e81",
   "metadata": {},
   "outputs": [],
   "source": [
    "dv = DictVectorizer(sparse=False)\n",
    "dv.fit(train_dict)"
   ]
  },
  {
   "cell_type": "code",
   "execution_count": null,
   "id": "4879802a",
   "metadata": {},
   "outputs": [],
   "source": [
    "X_train = dv.transform(train_dict)"
   ]
  },
  {
   "cell_type": "code",
   "execution_count": null,
   "id": "94e6ad66",
   "metadata": {},
   "outputs": [],
   "source": [
    "X_train.shape"
   ]
  },
  {
   "cell_type": "code",
   "execution_count": null,
   "id": "d6705bfb",
   "metadata": {},
   "outputs": [],
   "source": [
    "dv.get_feature_names()"
   ]
  },
  {
   "cell_type": "markdown",
   "id": "b93f92d7",
   "metadata": {},
   "source": [
    "## Training Logistic Regression"
   ]
  },
  {
   "cell_type": "code",
   "execution_count": null,
   "id": "97e7ccad",
   "metadata": {},
   "outputs": [],
   "source": [
    "from sklearn.linear_model import LogisticRegression"
   ]
  },
  {
   "cell_type": "code",
   "execution_count": null,
   "id": "ee7910d0",
   "metadata": {},
   "outputs": [],
   "source": [
    "model = LogisticRegression(solver='liblinear', random_state=1)\n",
    "model.fit(X_train, y_train)"
   ]
  },
  {
   "cell_type": "code",
   "execution_count": null,
   "id": "fe1d911e",
   "metadata": {},
   "outputs": [],
   "source": [
    "val_dict = df_val[categorical + numerical].to_dict(orient='records')\n",
    "X_val = dv.transform(val_dict)"
   ]
  },
  {
   "cell_type": "code",
   "execution_count": null,
   "id": "8b5b216b",
   "metadata": {},
   "outputs": [],
   "source": [
    "model.predict_proba(X_val)"
   ]
  },
  {
   "cell_type": "code",
   "execution_count": null,
   "id": "aacdb807",
   "metadata": {},
   "outputs": [],
   "source": [
    "y_pred = model.predict_proba(X_val)[:, 1]"
   ]
  },
  {
   "cell_type": "code",
   "execution_count": null,
   "id": "b1fa5d72",
   "metadata": {},
   "outputs": [],
   "source": [
    "y_pred"
   ]
  },
  {
   "cell_type": "code",
   "execution_count": null,
   "id": "903db185",
   "metadata": {},
   "outputs": [],
   "source": [
    "churn = y_pred > 0.5"
   ]
  },
  {
   "cell_type": "code",
   "execution_count": null,
   "id": "4a6af8cd",
   "metadata": {},
   "outputs": [],
   "source": [
    "(y_val == churn).mean()"
   ]
  },
  {
   "cell_type": "markdown",
   "id": "fb32203f",
   "metadata": {},
   "source": [
    "## Model interpretation"
   ]
  },
  {
   "cell_type": "code",
   "execution_count": 8,
   "id": "80f2a49f",
   "metadata": {},
   "outputs": [],
   "source": [
    "model.intercept_[0]"
   ]
  },
  {
   "cell_type": "code",
   "execution_count": 9,
   "id": "5d4492d1",
   "metadata": {},
   "outputs": [
    {
     "name": "stdout",
     "output_type": "stream",
     "text": [
      "x\n",
      "xx\n",
      "xxx\n",
      "xxxx\n"
     ]
    }
   ],
   "source": [
    "dict(zip(dv.get_feature_names(), model.coef_[0].round(3)))"
   ]
  },
  {
   "cell_type": "code",
   "execution_count": null,
   "id": "8a82ad17",
   "metadata": {},
   "outputs": [],
   "source": [
    "subset = ['contract', 'tenure', 'totalcharges']\n",
    "train_dict_small = df_train[subset].to_dict(orient='records')\n",
    "dv_small = DictVectorizer(sparse=False)\n",
    "dv_small.fit(train_dict_small)\n",
    "\n",
    "X_small_train = dv_small.transform(train_dict_small)\n",
    "\n",
    "dv_small.get_feature_names()"
   ]
  },
  {
   "cell_type": "code",
   "execution_count": null,
   "id": "cfcfbffe",
   "metadata": {},
   "outputs": [],
   "source": [
    "\n",
    "model_small = LogisticRegression(solver='liblinear', random_state=1)\n",
    "model_small.fit(X_small_train, y_train)"
   ]
  },
  {
   "cell_type": "code",
   "execution_count": null,
   "id": "527b4bd9",
   "metadata": {},
   "outputs": [],
   "source": [
    "\n",
    "model_small.intercept_[0]"
   ]
  },
  {
   "cell_type": "code",
   "execution_count": null,
   "id": "528949da",
   "metadata": {},
   "outputs": [],
   "source": [
    "dict(zip(dv_small.get_feature_names(), model_small.coef_[0].round(3)))"
   ]
  },
  {
   "cell_type": "code",
   "execution_count": null,
   "id": "fce044e6",
   "metadata": {},
   "outputs": [],
   "source": [
    "val_dict_small = df_val[subset].to_dict(orient='records')\n",
    "X_small_val = dv_small.transform(val_dict_small)"
   ]
  },
  {
   "cell_type": "code",
   "execution_count": null,
   "id": "61f7fbae",
   "metadata": {},
   "outputs": [],
   "source": [
    "y_pred_small = model_small.predict_proba(X_small_val)[:, 1]\n"
   ]
  },
  {
   "cell_type": "markdown",
   "id": "503f1dba",
   "metadata": {},
   "source": [
    "## Using the model"
   ]
  },
  {
   "cell_type": "code",
   "execution_count": null,
   "id": "4dac8aa6",
   "metadata": {},
   "outputs": [],
   "source": [
    "customer = {\n",
    "    'customerid': '8879-zkjof',\n",
    "    'gender': 'female',\n",
    "    'seniorcitizen': 0,\n",
    "    'partner': 'no',\n",
    "    'dependents': 'no',\n",
    "    'tenure': 41,\n",
    "    'phoneservice': 'yes',\n",
    "    'multiplelines': 'no',\n",
    "    'internetservice': 'dsl',\n",
    "    'onlinesecurity': 'yes',\n",
    "    'onlinebackup': 'no',\n",
    "    'deviceprotection': 'yes',\n",
    "    'techsupport': 'yes',\n",
    "    'streamingtv': 'yes',\n",
    "    'streamingmovies': 'yes',\n",
    "    'contract': 'one_year',\n",
    "    'paperlessbilling': 'yes',\n",
    "    'paymentmethod': 'bank_transfer_(automatic)',\n",
    "    'monthlycharges': 79.85,\n",
    "    'totalcharges': 3320.75,\n",
    "}\n"
   ]
  },
  {
   "cell_type": "code",
   "execution_count": null,
   "id": "926e0749",
   "metadata": {},
   "outputs": [],
   "source": [
    "X_test = dv.transform([customer])\n",
    "model.predict_proba(X_test)[0, 1]"
   ]
  },
  {
   "cell_type": "code",
   "execution_count": null,
   "id": "f38ee114",
   "metadata": {},
   "outputs": [],
   "source": [
    "print(list(X_test[0]))"
   ]
  },
  {
   "cell_type": "code",
   "execution_count": null,
   "id": "1fb70edc",
   "metadata": {},
   "outputs": [],
   "source": [
    "customer = {\n",
    "    'gender': 'female',\n",
    "    'seniorcitizen': 1,\n",
    "    'partner': 'no',\n",
    "    'dependents': 'no',\n",
    "    'phoneservice': 'yes',\n",
    "    'multiplelines': 'yes',\n",
    "    'internetservice': 'fiber_optic',\n",
    "    'onlinesecurity': 'no',\n",
    "    'onlinebackup': 'no',\n",
    "    'deviceprotection': 'no',\n",
    "    'techsupport': 'no',\n",
    "    'streamingtv': 'yes',\n",
    "    'streamingmovies': 'no',\n",
    "    'contract': 'month-to-month',\n",
    "    'paperlessbilling': 'yes',\n",
    "    'paymentmethod': 'electronic_check',\n",
    "    'tenure': 1,\n",
    "    'monthlycharges': 85.7,\n",
    "    'totalcharges': 85.7\n",
    "}"
   ]
  },
  {
   "cell_type": "code",
   "execution_count": null,
   "id": "6e0b3f46",
   "metadata": {},
   "outputs": [],
   "source": [
    "X_test = dv.transform([customer])\n",
    "model.predict_proba(X_test)[0, 1]"
   ]
  },
  {
   "cell_type": "markdown",
   "id": "9a057167",
   "metadata": {},
   "source": [
    "## Metrics"
   ]
  },
  {
   "cell_type": "code",
   "execution_count": null,
   "id": "510d0cb8",
   "metadata": {},
   "outputs": [],
   "source": [
    "from sklearn.model_selection import train_test_split\n",
    "from sklearn.feature_extraction import DictVectorizer\n",
    "from sklearn.linear_model import LogisticRegression"
   ]
  },
  {
   "cell_type": "code",
   "execution_count": null,
   "id": "c13d5789",
   "metadata": {},
   "outputs": [],
   "source": [
    "df = pd.read_csv('WA_Fn-UseC_-Telco-Customer-Churn.csv')\n",
    "\n",
    "df['TotalCharges'] = pd.to_numeric(df['TotalCharges'], errors='coerce')\n",
    "df['TotalCharges'] = df['TotalCharges'].fillna(0)\n",
    "\n",
    "df.columns = df.columns.str.lower().str.replace(' ', '_')\n",
    "\n",
    "string_columns = list(df.dtypes[df.dtypes == 'object'].index)\n",
    "\n",
    "for col in string_columns:\n",
    "    df[col] = df[col].str.lower().str.replace(' ', '_')\n",
    "\n",
    "df.churn = (df.churn == 'yes').astype(int)"
   ]
  },
  {
   "cell_type": "code",
   "execution_count": null,
   "id": "46ea9465",
   "metadata": {},
   "outputs": [],
   "source": [
    "df_train_full, df_test = train_test_split(df, test_size=0.2, random_state=1)\n",
    "df_train, df_val = train_test_split(df_train_full, test_size=0.33, random_state=11)\n",
    "\n",
    "y_train = df_train.churn.values\n",
    "y_val = df_val.churn.values\n",
    "\n",
    "del df_train['churn']\n",
    "del df_val['churn']"
   ]
  },
  {
   "cell_type": "code",
   "execution_count": null,
   "id": "a011abdb",
   "metadata": {},
   "outputs": [],
   "source": [
    "categorical = ['gender', 'seniorcitizen', 'partner', 'dependents',\n",
    "               'phoneservice', 'multiplelines', 'internetservice',\n",
    "               'onlinesecurity', 'onlinebackup', 'deviceprotection',\n",
    "               'techsupport', 'streamingtv', 'streamingmovies',\n",
    "               'contract', 'paperlessbilling', 'paymentmethod']\n",
    "numerical = ['tenure', 'monthlycharges', 'totalcharges']"
   ]
  },
  {
   "cell_type": "code",
   "execution_count": null,
   "id": "91b54c21",
   "metadata": {},
   "outputs": [],
   "source": [
    "train_dict = df_train[categorical + numerical].to_dict(orient='records')\n",
    "\n",
    "dv = DictVectorizer(sparse=False)\n",
    "dv.fit(train_dict)\n",
    "\n",
    "X_train = dv.transform(train_dict)"
   ]
  },
  {
   "cell_type": "code",
   "execution_count": null,
   "id": "64900f22",
   "metadata": {},
   "outputs": [],
   "source": [
    "model = LogisticRegression(solver='liblinear', random_state=1)\n",
    "model.fit(X_train, y_train)"
   ]
  },
  {
   "cell_type": "code",
   "execution_count": null,
   "id": "ffbc76e7",
   "metadata": {},
   "outputs": [],
   "source": [
    "val_dict = df_val[categorical + numerical].to_dict(orient='records')\n",
    "X_val = dv.transform(val_dict)\n",
    "y_pred = model.predict_proba(X_val)[:, 1]"
   ]
  },
  {
   "cell_type": "code",
   "execution_count": null,
   "id": "44f2d772",
   "metadata": {},
   "outputs": [],
   "source": [
    "small_subset = ['contract', 'tenure', 'totalcharges']\n",
    "train_dict_small = df_train[small_subset].to_dict(orient='records')\n",
    "dv_small = DictVectorizer(sparse=False)\n",
    "dv_small.fit(train_dict_small)\n",
    "\n",
    "X_small_train = dv_small.transform(train_dict_small)\n",
    "\n",
    "model_small = LogisticRegression(solver='liblinear', random_state=1)\n",
    "model_small.fit(X_small_train, y_train)\n"
   ]
  },
  {
   "cell_type": "code",
   "execution_count": null,
   "id": "94faff45",
   "metadata": {},
   "outputs": [],
   "source": [
    "val_dict_small = df_val[small_subset].to_dict(orient='records')\n",
    "X_small_val = dv_small.transform(val_dict_small)\n",
    "\n",
    "y_pred_small = model_small.predict_proba(X_small_val)[:, 1]"
   ]
  },
  {
   "cell_type": "markdown",
   "id": "c6648964",
   "metadata": {},
   "source": [
    "## Accuracy"
   ]
  },
  {
   "cell_type": "code",
   "execution_count": null,
   "id": "aa8b149f",
   "metadata": {},
   "outputs": [],
   "source": [
    "y_pred = model.predict_proba(X_val)[:, 1]\n",
    "churn = y_pred >= 0.5\n",
    "(churn == y_val).mean()"
   ]
  },
  {
   "cell_type": "code",
   "execution_count": null,
   "id": "9c6f047f",
   "metadata": {},
   "outputs": [],
   "source": [
    "\n",
    "from sklearn.metrics import accuracy_score"
   ]
  },
  {
   "cell_type": "code",
   "execution_count": null,
   "id": "f1d92cf4",
   "metadata": {},
   "outputs": [],
   "source": [
    "accuracy_score(y_val, y_pred >= 0.5)"
   ]
  },
  {
   "cell_type": "code",
   "execution_count": null,
   "id": "637ce6e1",
   "metadata": {},
   "outputs": [],
   "source": [
    "thresholds = np.linspace(0, 1, 11)\n",
    "thresholds\n"
   ]
  },
  {
   "cell_type": "code",
   "execution_count": null,
   "id": "9f32b902",
   "metadata": {},
   "outputs": [],
   "source": [
    "thresholds = np.linspace(0, 1, 21)\n",
    "\n",
    "accuracies = []\n",
    "\n",
    "for t in thresholds:\n",
    "    acc = accuracy_score(y_val, y_pred >= t)\n",
    "    accuracies.append(acc)\n",
    "    print('%0.2f %0.3f' % (t, acc))"
   ]
  },
  {
   "cell_type": "code",
   "execution_count": null,
   "id": "f7878f7b",
   "metadata": {},
   "outputs": [],
   "source": [
    "plt.figure(figsize=(6, 4))\n",
    "\n",
    "plt.plot(thresholds, accuracies, color='black')\n",
    "\n",
    "plt.title('Threshold vs Accuracy')\n",
    "plt.xlabel('Threshold')\n",
    "plt.ylabel('Accuracy')\n",
    "\n",
    "plt.xticks(np.linspace(0, 1, 11))\n",
    "\n",
    "# plt.savefig('04_threshold_accuracy.svg')\n",
    "\n",
    "plt.show()"
   ]
  },
  {
   "cell_type": "code",
   "execution_count": null,
   "id": "8e4865a9",
   "metadata": {},
   "outputs": [],
   "source": [
    "churn_small = y_pred_small >= 0.5\n",
    "(churn_small == y_val).mean()"
   ]
  },
  {
   "cell_type": "code",
   "execution_count": null,
   "id": "8601b322",
   "metadata": {},
   "outputs": [],
   "source": [
    "accuracy_score(y_val, churn_small)"
   ]
  },
  {
   "cell_type": "code",
   "execution_count": null,
   "id": "bdd82956",
   "metadata": {},
   "outputs": [],
   "source": [
    "size_val = len(y_val)\n",
    "baseline = np.repeat(False, size_val)\n",
    "baseline"
   ]
  },
  {
   "cell_type": "code",
   "execution_count": null,
   "id": "c1cce03f",
   "metadata": {},
   "outputs": [],
   "source": [
    "accuracy_score(baseline, y_val)"
   ]
  },
  {
   "cell_type": "markdown",
   "id": "a29b3b94",
   "metadata": {},
   "source": [
    "## Confusion Table"
   ]
  },
  {
   "cell_type": "code",
   "execution_count": null,
   "id": "19812b02",
   "metadata": {},
   "outputs": [],
   "source": [
    "true_positive = ((y_pred >= 0.5) & (y_val == 1)).sum()\n",
    "false_positive = ((y_pred >= 0.5) & (y_val == 0)).sum()\n",
    "false_negative = ((y_pred < 0.5) & (y_val == 1)).sum()\n",
    "true_negative = ((y_pred < 0.5) & (y_val == 0)).sum()"
   ]
  },
  {
   "cell_type": "code",
   "execution_count": null,
   "id": "9aea7816",
   "metadata": {},
   "outputs": [],
   "source": [
    "confusion_table = np.array(\n",
    "     # predict neg    pos\n",
    "    [[true_negative, false_positive], # actual neg\n",
    "     [false_negative, true_positive]]) # actual pos\n",
    "\n",
    "confusion_table"
   ]
  },
  {
   "cell_type": "code",
   "execution_count": null,
   "id": "74cac781",
   "metadata": {},
   "outputs": [],
   "source": [
    "\n",
    "confusion_table / confusion_table.sum()"
   ]
  },
  {
   "cell_type": "markdown",
   "id": "adb3b2ad",
   "metadata": {},
   "source": [
    "## Precision and recall"
   ]
  },
  {
   "cell_type": "code",
   "execution_count": null,
   "id": "51d8b275",
   "metadata": {},
   "outputs": [],
   "source": [
    "\n",
    "precision = true_positive / (true_positive + false_positive)\n",
    "recall = true_positive / (true_positive + false_negative)\n",
    "precision, recall"
   ]
  },
  {
   "cell_type": "code",
   "execution_count": null,
   "id": "63ae6834",
   "metadata": {},
   "outputs": [],
   "source": [
    "\n",
    "confusion_table / confusion_table.sum()"
   ]
  },
  {
   "cell_type": "code",
   "execution_count": null,
   "id": "277d3dbd",
   "metadata": {},
   "outputs": [],
   "source": [
    "\n",
    "precision = true_positive / (true_positive + false_positive)\n",
    "recall = true_positive / (true_positive + false_negative)\n",
    "precision, recall"
   ]
  },
  {
   "cell_type": "markdown",
   "id": "bbec8ad6",
   "metadata": {},
   "source": [
    "## ROC and AUC"
   ]
  },
  {
   "cell_type": "code",
   "execution_count": 1,
   "id": "2a02514e",
   "metadata": {},
   "outputs": [
    {
     "ename": "NameError",
     "evalue": "name 'np' is not defined",
     "output_type": "error",
     "traceback": [
      "\u001b[1;31m---------------------------------------------------------------------------\u001b[0m",
      "\u001b[1;31mNameError\u001b[0m                                 Traceback (most recent call last)",
      "Cell \u001b[1;32mIn[1], line 3\u001b[0m\n\u001b[0;32m      1\u001b[0m scores \u001b[38;5;241m=\u001b[39m []\n\u001b[1;32m----> 3\u001b[0m thresholds \u001b[38;5;241m=\u001b[39m \u001b[43mnp\u001b[49m\u001b[38;5;241m.\u001b[39mlinspace(\u001b[38;5;241m0\u001b[39m, \u001b[38;5;241m1\u001b[39m, \u001b[38;5;241m101\u001b[39m)\n\u001b[0;32m      5\u001b[0m \u001b[38;5;28;01mfor\u001b[39;00m t \u001b[38;5;129;01min\u001b[39;00m thresholds: \u001b[38;5;66;03m#B\u001b[39;00m\n\u001b[0;32m      6\u001b[0m     tp \u001b[38;5;241m=\u001b[39m ((y_pred \u001b[38;5;241m>\u001b[39m\u001b[38;5;241m=\u001b[39m t) \u001b[38;5;241m&\u001b[39m (y_val \u001b[38;5;241m==\u001b[39m \u001b[38;5;241m1\u001b[39m))\u001b[38;5;241m.\u001b[39msum()\n",
      "\u001b[1;31mNameError\u001b[0m: name 'np' is not defined"
     ]
    }
   ],
   "source": [
    "scores = []\n",
    "\n",
    "thresholds = np.linspace(0, 1, 101)\n",
    "\n",
    "for t in thresholds: #B\n",
    "    tp = ((y_pred >= t) & (y_val == 1)).sum()\n",
    "    fp = ((y_pred >= t) & (y_val == 0)).sum()\n",
    "    fn = ((y_pred < t) & (y_val == 1)).sum()\n",
    "    tn = ((y_pred < t) & (y_val == 0)).sum()\n",
    "    scores.append((t, tp, fp, fn, tn))\n",
    "\n",
    "df_scores = pd.DataFrame(scores)\n",
    "df_scores.columns = ['threshold', 'tp', 'fp', 'fn', 'tn']"
   ]
  },
  {
   "cell_type": "code",
   "execution_count": null,
   "id": "4a09ee43",
   "metadata": {},
   "outputs": [],
   "source": [
    "df_scores[::10]"
   ]
  },
  {
   "cell_type": "code",
   "execution_count": null,
   "id": "62e84f44",
   "metadata": {},
   "outputs": [],
   "source": [
    "df_scores['tpr'] = df_scores.tp / (df_scores.tp + df_scores.fn)\n",
    "df_scores['fpr'] = df_scores.fp / (df_scores.fp + df_scores.tn)"
   ]
  },
  {
   "cell_type": "code",
   "execution_count": null,
   "id": "e6f56405",
   "metadata": {},
   "outputs": [],
   "source": [
    "df_scores[::10]"
   ]
  },
  {
   "cell_type": "code",
   "execution_count": null,
   "id": "6f33e8b5",
   "metadata": {},
   "outputs": [],
   "source": [
    "plt.figure(figsize=(6, 4))\n",
    "\n",
    "plt.plot(df_scores.threshold, df_scores.tpr, color='black', linestyle='solid', label='TPR')\n",
    "plt.plot(df_scores.threshold, df_scores.fpr, color='black', linestyle='dashed', label='FPR')\n",
    "plt.legend()\n",
    "\n",
    "plt.xticks(np.linspace(0, 1, 11))\n",
    "plt.yticks(np.linspace(0, 1, 11))\n",
    "\n",
    "plt.xlabel('Thresholds')\n",
    "plt.title('TPR and FPR')\n",
    "\n",
    "# plt.savefig('04_fpr_tpr_plot.svg')\n",
    "\n",
    "plt.show()\n"
   ]
  },
  {
   "cell_type": "code",
   "execution_count": null,
   "id": "39534b77",
   "metadata": {},
   "outputs": [],
   "source": [
    "def tpr_fpr_dataframe(y_val, y_pred):\n",
    "    scores = []\n",
    "\n",
    "    thresholds = np.linspace(0, 1, 101)\n",
    "\n",
    "    for t in thresholds:\n",
    "        tp = ((y_pred >= t) & (y_val == 1)).sum()\n",
    "        fp = ((y_pred >= t) & (y_val == 0)).sum()\n",
    "        fn = ((y_pred < t) & (y_val == 1)).sum()\n",
    "        tn = ((y_pred < t) & (y_val == 0)).sum()\n",
    "\n",
    "        scores.append((t, tp, fp, fn, tn))\n",
    "\n",
    "    df_scores = pd.DataFrame(scores)\n",
    "    df_scores.columns = ['threshold', 'tp', 'fp', 'fn', 'tn']\n",
    "\n",
    "    df_scores['tpr'] = df_scores.tp / (df_scores.tp + df_scores.fn)\n",
    "    df_scores['fpr'] = df_scores.fp / (df_scores.fp + df_scores.tn)\n",
    "\n",
    "    return df_scores"
   ]
  },
  {
   "cell_type": "code",
   "execution_count": null,
   "id": "997f0de3",
   "metadata": {},
   "outputs": [],
   "source": [
    "np.random.seed(1)\n",
    "y_rand = np.random.uniform(0, 1, size=len(y_val))\n",
    "df_rand = tpr_fpr_dataframe(y_val, y_rand)\n",
    "df_rand[::10]"
   ]
  },
  {
   "cell_type": "code",
   "execution_count": null,
   "id": "8adcc975",
   "metadata": {},
   "outputs": [],
   "source": [
    "plt.figure(figsize=(6, 4))\n",
    "\n",
    "plt.plot(df_rand.threshold, df_rand.tpr, color='black', linestyle='solid', label='TPR')\n",
    "plt.plot(df_rand.threshold, df_rand.fpr, color='black', linestyle='dashed', label='FPR')\n",
    "plt.legend()\n",
    "\n",
    "plt.xticks(np.linspace(0, 1, 11))\n",
    "plt.yticks(np.linspace(0, 1, 11))\n",
    "\n",
    "plt.xlabel('Thresholds')\n",
    "plt.title('TPR and FPR for the random model')\n",
    "\n",
    "#plt.savefig('04_fpr_tpr_plot_random.svg')\n",
    "\n",
    "plt.show()"
   ]
  },
  {
   "cell_type": "code",
   "execution_count": null,
   "id": "c9e7b2c9",
   "metadata": {},
   "outputs": [],
   "source": [
    "num_neg = (y_val == 0).sum()\n",
    "num_pos = (y_val == 1).sum()\n",
    "\n",
    "y_ideal = np.repeat([0, 1], [num_neg, num_pos])\n",
    "y_pred_ideal = np.linspace(0, 1, num_neg + num_pos)\n",
    "\n",
    "df_ideal = tpr_fpr_dataframe(y_ideal, y_pred_ideal)\n",
    "df_ideal[::10]"
   ]
  }
 ],
 "metadata": {
  "kernelspec": {
   "display_name": "Python 3 (ipykernel)",
   "language": "python",
   "name": "python3"
  },
  "language_info": {
   "codemirror_mode": {
    "name": "ipython",
    "version": 3
   },
   "file_extension": ".py",
   "mimetype": "text/x-python",
   "name": "python",
   "nbconvert_exporter": "python",
   "pygments_lexer": "ipython3",
   "version": "3.10.9"
  }
 },
 "nbformat": 4,
 "nbformat_minor": 5
}
